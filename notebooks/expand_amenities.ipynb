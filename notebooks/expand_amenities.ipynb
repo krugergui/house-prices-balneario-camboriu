{
 "cells": [
  {
   "cell_type": "code",
   "execution_count": 1,
   "metadata": {},
   "outputs": [],
   "source": [
    "import db_functions\n",
    "import pandas as pd\n",
    "import numpy as np\n",
    "import re\n",
    "\n",
    "from sqlalchemy import MetaData, Table, Column, ForeignKey, Integer\n",
    "from sqlalchemy import Boolean\n",
    "from sqlalchemy.orm import mapper"
   ]
  },
  {
   "cell_type": "code",
   "execution_count": null,
   "metadata": {},
   "outputs": [],
   "source": [
    "sql_engine = db_functions.connect_to_database_sqlalchemy()\n",
    "df_amenities = pd.read_sql(sql='SELECT id, amenities FROM `dados-imoveis`', con=sql_engine).set_index('id')\n",
    "df_amenities\n",
    "list_amenities = []\n",
    "df_amenities = df_amenities['amenities'].str.lower().str.replace(' ', '_').str.split(pat='\\n', expand=True)\n",
    "\n",
    "for i_lin in df_amenities.values:\n",
    "\tfor i_amenity in i_lin:\n",
    "\t\tif i_amenity not in list_amenities and type(i_amenity) == str:\n",
    "\t\t\tlist_amenities.append(i_amenity)\n",
    "\t\t\t\n",
    "list_amenities.sort()\n",
    "list_amenities\n",
    "metadata_houses = MetaData()\n",
    "column_types = [Boolean for i in range(len(list_amenities))]\n",
    "houses_table  = Table('dados-imoveis', metadata_houses, (\n",
    "\tColumn('id', Integer, primary_key = True)\n",
    "))\n",
    "\n",
    "# Adding columns\n",
    "\n",
    "columns = [\n",
    "\tColumn('id', Integer, primary_key = True, unique=True),\n",
    "\tColumn('house_id', Integer, ForeignKey(houses_table.c.id), nullable=False, unique=True)\n",
    "]\n",
    "\n",
    "for index, (name, type) in enumerate(zip(list_amenities, column_types)):\n",
    "\t\t\tcolumns.append(Column(name, type))\n",
    "\n",
    "metadata_amenities = MetaData()\n",
    "amenities_table  = Table('amenities', metadata_amenities, *columns)\n",
    "metadata_amenities.create_all(sql_engine)\n",
    "dict_amenities = dict(zip(list_amenities, range(0,len(list_amenities))))\n",
    "\n",
    "list_to_update = np.array([])\n",
    "df_amenities = df_amenities.replace(dict_amenities)\n",
    "df_amenities = df_amenities.astype('Int64')\n",
    "\n",
    "for index, row in df_amenities.replace(dict_amenities).iterrows():\n",
    "\ttemp_list = np.full(len(list_amenities), 'False')\n",
    "\tfor i_amenity in row:\n",
    "\t\tif not pd.isna(i_amenity):\n",
    "\t\t\ttemp_list[i_amenity] = 'True'\n",
    "\ttemp_list = np.insert(temp_list, 0, index)\n",
    "\tif len(list_to_update) > 0:\n",
    "\t\tlist_to_update = np.vstack((list_to_update, temp_list.copy()))\n",
    "\telse:\n",
    "\t\tlist_to_update = temp_list.copy()\n",
    "insert_query = f'INSERT INTO `amenities` (`house_id`, `{\"`, `\".join(list_amenities)}`)\\n'\n",
    "insert_query += f'VALUES\\n'\n",
    "\n",
    "for lin in list_to_update:\n",
    "    subbed = re.sub(string=str(lin), pattern='(\\' \\'|\\'\\n \\'|\\' \\n\\')', repl=', ')\n",
    "    insert_query += f'{chr(9)}(' + re.sub(pattern='(?:\\n|\\[|\\]|\\')', repl='', string=subbed) + '),\\n'\n",
    "    \n",
    "insert_query =  re.sub(pattern=',(?!,)$', repl=';', string=insert_query)\n",
    "db, db_cursor = db_functions.connect_to_database_mysql_connector()\n",
    "\n",
    "db_cursor.execute(insert_query)\n",
    "db.commit()"
   ]
  }
 ],
 "metadata": {
  "kernelspec": {
   "display_name": "MYSql",
   "language": "python",
   "name": "python3"
  },
  "language_info": {
   "codemirror_mode": {
    "name": "ipython",
    "version": 3
   },
   "file_extension": ".py",
   "mimetype": "text/x-python",
   "name": "python",
   "nbconvert_exporter": "python",
   "pygments_lexer": "ipython3",
   "version": "3.9.7"
  },
  "orig_nbformat": 4,
  "vscode": {
   "interpreter": {
    "hash": "9fa5a529dbe703dfd50444c786ad17279b899d0a7de84df0aec54fea5db1841b"
   }
  }
 },
 "nbformat": 4,
 "nbformat_minor": 2
}
